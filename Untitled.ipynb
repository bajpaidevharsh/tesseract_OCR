{
  "cells": [
    {
      "cell_type": "markdown",
      "metadata": {
        "id": "view-in-github",
        "colab_type": "text"
      },
      "source": [
        "<a href=\"https://colab.research.google.com/github/bajpaidevharsh/tesseract_OCR/blob/main/Untitled.ipynb\" target=\"_parent\"><img src=\"https://colab.research.google.com/assets/colab-badge.svg\" alt=\"Open In Colab\"/></a>"
      ]
    },
    {
      "cell_type": "code",
      "execution_count": null,
      "id": "663a2b3f-7912-4d41-ba68-96a810f04943",
      "metadata": {
        "id": "663a2b3f-7912-4d41-ba68-96a810f04943"
      },
      "outputs": [],
      "source": [
        "import numpy"
      ]
    },
    {
      "cell_type": "markdown",
      "source": [
        "**for using tesseract you must download it first in order to give the path of tesseract**"
      ],
      "metadata": {
        "id": "x2VlkMJ3b6FR"
      },
      "id": "x2VlkMJ3b6FR"
    },
    {
      "cell_type": "code",
      "execution_count": null,
      "id": "d40e1460-6a2b-4d80-a4dd-b8d1064d96a4",
      "metadata": {
        "id": "d40e1460-6a2b-4d80-a4dd-b8d1064d96a4",
        "outputId": "ee90edb5-ed0e-4eff-9d34-c4a9fb417b71"
      },
      "outputs": [
        {
          "name": "stdout",
          "output_type": "stream",
          "text": [
            "Requirement already satisfied: pytesseract in c:\\users\\dev harsh bajpai\\appdata\\local\\programs\\python\\python310\\lib\\site-packages (0.3.10)\n",
            "Requirement already satisfied: packaging>=21.3 in c:\\users\\dev harsh bajpai\\appdata\\local\\programs\\python\\python310\\lib\\site-packages (from pytesseract) (23.1)\n",
            "Requirement already satisfied: Pillow>=8.0.0 in c:\\users\\dev harsh bajpai\\appdata\\local\\programs\\python\\python310\\lib\\site-packages (from pytesseract) (9.5.0)\n"
          ]
        },
        {
          "name": "stderr",
          "output_type": "stream",
          "text": [
            "DEPRECATION: google-images-search 1.4.6 has a non-standard dependency specifier click>=7.0<=8.1.*. pip 24.1 will enforce this behaviour change. A possible replacement is to upgrade to a newer version of google-images-search or contact the author to suggest that they release a version with a conforming dependency specifiers. Discussion can be found at https://github.com/pypa/pip/issues/12063\n",
            "\n",
            "[notice] A new release of pip is available: 24.0 -> 24.1.2\n",
            "[notice] To update, run: python.exe -m pip install --upgrade pip\n"
          ]
        }
      ],
      "source": [
        "!pip install pytesseract"
      ]
    },
    {
      "cell_type": "code",
      "execution_count": null,
      "id": "ad31d824-84e9-49c4-aaec-fd3790ee92ec",
      "metadata": {
        "id": "ad31d824-84e9-49c4-aaec-fd3790ee92ec"
      },
      "outputs": [],
      "source": [
        "import pytesseract"
      ]
    },
    {
      "cell_type": "code",
      "execution_count": null,
      "id": "68d0a0b4-8ef4-4fba-8c83-6a7e20925704",
      "metadata": {
        "id": "68d0a0b4-8ef4-4fba-8c83-6a7e20925704"
      },
      "outputs": [],
      "source": [
        "import cv2"
      ]
    },
    {
      "cell_type": "code",
      "execution_count": null,
      "id": "a7e1e86e-ce20-4401-9eac-d1671aa1f7b6",
      "metadata": {
        "id": "a7e1e86e-ce20-4401-9eac-d1671aa1f7b6"
      },
      "outputs": [],
      "source": [
        "pytesseract.pytesseract.tesseract_cmd=\"path of tesseract application.exe\""
      ]
    },
    {
      "cell_type": "code",
      "execution_count": null,
      "id": "c4c38cc4-749d-4b99-9250-9dcb89c34bcd",
      "metadata": {
        "id": "c4c38cc4-749d-4b99-9250-9dcb89c34bcd"
      },
      "outputs": [],
      "source": [
        "img=cv2.imread(\"tesseract_ka_shikar_2.jpg\")"
      ]
    },
    {
      "cell_type": "markdown",
      "source": [
        "**input is in the format of rgb**"
      ],
      "metadata": {
        "id": "-KaIG1u2cO6f"
      },
      "id": "-KaIG1u2cO6f"
    },
    {
      "cell_type": "code",
      "execution_count": null,
      "id": "f893247d-4685-400e-ab86-e19dfde65ac0",
      "metadata": {
        "id": "f893247d-4685-400e-ab86-e19dfde65ac0"
      },
      "outputs": [],
      "source": [
        "img=cv2.cvtColor(img,cv2.COLOR_BGR2RGB)"
      ]
    },
    {
      "cell_type": "code",
      "execution_count": null,
      "id": "7fcd8f2d-e54e-48fd-8478-21d9a879938e",
      "metadata": {
        "id": "7fcd8f2d-e54e-48fd-8478-21d9a879938e"
      },
      "outputs": [],
      "source": [
        "cv2.imshow('output', img)\n",
        "cv2.waitKey(0)\n",
        "cv2.destroyAllWindows()"
      ]
    },
    {
      "cell_type": "code",
      "execution_count": null,
      "id": "8adbfb6d-086f-4c81-8284-50be25c2f18b",
      "metadata": {
        "id": "8adbfb6d-086f-4c81-8284-50be25c2f18b",
        "outputId": "301e68b3-7be9-4c27-c383-b2e104449f71"
      },
      "outputs": [
        {
          "name": "stdout",
          "output_type": "stream",
          "text": [
            "How to pronounce\n",
            "\n",
            "Sarah Palin\n",
            "\n"
          ]
        }
      ],
      "source": [
        "print(pytesseract.image_to_string(img))"
      ]
    },
    {
      "cell_type": "code",
      "execution_count": null,
      "id": "cae64661-b5e4-476f-a05f-623d07e06dc3",
      "metadata": {
        "id": "cae64661-b5e4-476f-a05f-623d07e06dc3"
      },
      "outputs": [],
      "source": []
    },
    {
      "cell_type": "code",
      "execution_count": null,
      "id": "1631d847-ab3d-496f-a76f-c244d1795b0e",
      "metadata": {
        "id": "1631d847-ab3d-496f-a76f-c244d1795b0e"
      },
      "outputs": [],
      "source": []
    },
    {
      "cell_type": "code",
      "execution_count": null,
      "id": "7fc2dbac-c855-4178-8806-9f9f9e75670e",
      "metadata": {
        "id": "7fc2dbac-c855-4178-8806-9f9f9e75670e"
      },
      "outputs": [],
      "source": []
    }
  ],
  "metadata": {
    "kernelspec": {
      "display_name": "Python 3 (ipykernel)",
      "language": "python",
      "name": "python3"
    },
    "language_info": {
      "codemirror_mode": {
        "name": "ipython",
        "version": 3
      },
      "file_extension": ".py",
      "mimetype": "text/x-python",
      "name": "python",
      "nbconvert_exporter": "python",
      "pygments_lexer": "ipython3",
      "version": "3.10.11"
    },
    "colab": {
      "provenance": [],
      "include_colab_link": true
    }
  },
  "nbformat": 4,
  "nbformat_minor": 5
}